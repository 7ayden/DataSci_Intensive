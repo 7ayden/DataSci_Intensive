{
 "cells": [
  {
   "cell_type": "code",
   "execution_count": null,
   "metadata": {
    "collapsed": false,
    "scrolled": true
   },
   "outputs": [],
   "source": [
    "#!/usr/bin/python\n",
    "\n",
    "\"\"\" \n",
    "    this is the code to accompany the Lesson 2 (SVM) mini-project\n",
    "\n",
    "    use an SVM to identify emails from the Enron corpus by their authors\n",
    "    \n",
    "    Sara has label 0\n",
    "    Chris has label 1\n",
    "\n",
    "\"\"\"\n",
    "    \n",
    "import sys\n",
    "from time import time\n",
    "sys.path.append(\"../tools/\")\n",
    "from email_preprocess import preprocess\n",
    "\n",
    "\n",
    "### features_train and features_test are the features for the training\n",
    "### and testing datasets, respectively\n",
    "### labels_train and labels_test are the corresponding item labels\n",
    "features_train, features_test, labels_train, labels_test = preprocess()\n",
    "\n",
    "\n",
    "\n",
    "\n",
    "#########################################################\n",
    "from sklearn.svm import SVC\n",
    "clf = SVC(kernel= 'linear')\n",
    "clf.fit(features_train, labels_train)\n",
    "SVC(C=1.0, cache_size=200, class_weight=None, coef0=0.0, degree=3, gamma=0.0,\n",
    "  kernel='linear', max_iter=-1, probability=False, random_state=None,\n",
    "  shrinking=True, tol=0.001, verbose=False)\n",
    "\n",
    "\n",
    "clf.score(features_test,labels_test)\n",
    "\n",
    "\n",
    "#########################################################\n",
    "\n",
    "\n"
   ]
  },
  {
   "cell_type": "code",
   "execution_count": null,
   "metadata": {
    "collapsed": false
   },
   "outputs": [],
   "source": [
    "features_train, features_test, labels_train, labels_test = preprocess()\n",
    "\n",
    "features_train = features_train[:len(features_train)/100]\n",
    "labels_train = labels_train[:len(labels_train)/100]\n",
    "\n",
    "clf.fit(features_train,labels_train)\n",
    "\n",
    "\n",
    "SVC(C=1.0, cache_size=200, class_weight=None, coef0=0.0, degree=3, gamma=0.0,\n",
    "  kernel='linear', max_iter=-1, probability=False, random_state=None,\n",
    "  shrinking=True, tol=0.001, verbose=False)\n",
    "\n",
    "clf.score(features_test,labels_test)"
   ]
  },
  {
   "cell_type": "code",
   "execution_count": null,
   "metadata": {
    "collapsed": false
   },
   "outputs": [],
   "source": [
    "clf_rbf = SVC(kernel='rbf')\n",
    "\n",
    "clf_rbf.fit(features_train,labels_train)\n",
    "\n",
    "SVC(C=1.0, cache_size=200, class_weight=None, coef0=0.0, degree=3, gamma=0.0,\n",
    "  kernel='rbf', max_iter=-1, probability=False, random_state=None,\n",
    "  shrinking=True, tol=0.001, verbose=False)\n",
    "\n",
    "clf_rbf.score(features_test,labels_test)"
   ]
  },
  {
   "cell_type": "code",
   "execution_count": null,
   "metadata": {
    "collapsed": true
   },
   "outputs": [],
   "source": [
    "#c = 10.0\n",
    "\n",
    "clf_rbf = SVC(kernel='rbf')\n",
    "\n",
    "clf_rbf.fit(features_train,labels_train)\n",
    "\n",
    "SVC(C=10.0, cache_size=200, class_weight=None, coef0=0.0, degree=3, gamma=0.0,\n",
    "  kernel='rbf', max_iter=-1, probability=False, random_state=None,\n",
    "  shrinking=True, tol=0.001, verbose=False)\n",
    "\n",
    "clf_rbf.score(features_test,labels_test)\n",
    "\n",
    "#c = 100.0\n",
    "\n",
    "clf_rbf = SVC(kernel='rbf')\n",
    "\n",
    "clf_rbf.fit(features_train,labels_train)\n",
    "\n",
    "SVC(C=100.0, cache_size=200, class_weight=None, coef0=0.0, degree=3, gamma=0.0,\n",
    "  kernel='rbf', max_iter=-1, probability=False, random_state=None,\n",
    "  shrinking=True, tol=0.001, verbose=False)\n",
    "\n",
    "clf_rbf.score(features_test,labels_test)\n",
    "\n",
    "#  c= 1000.0\n",
    "clf_rbf = SVC(kernel='rbf')\n",
    "\n",
    "clf_rbf.fit(features_train,labels_train)\n",
    "\n",
    "SVC(C=1000.0, cache_size=200, class_weight=None, coef0=0.0, degree=3, gamma=0.0,\n",
    "  kernel='rbf', max_iter=-1, probability=False, random_state=None,\n",
    "  shrinking=True, tol=0.001, verbose=False)\n",
    "\n",
    "clf_rbf.score(features_test,labels_test)\n",
    "\n",
    "#  c= 10000.0\n",
    "clf_rbf = SVC(kernel='rbf')\n",
    "\n",
    "clf_rbf.fit(features_train,labels_train)\n",
    "\n",
    "SVC(C=1000.0, cahe_size=200, class_weight=None, coef0=0.0, degree=3, gamma=0.0,\n",
    "  kernel='rbf', max_iter=-1, probability=False, random_state=None,\n",
    "  shrinking=True, tol=0.001, verbose=False)\n",
    "\n",
    "clf_rbf.score(features_test,labels_test)"
   ]
  },
  {
   "cell_type": "code",
   "execution_count": null,
   "metadata": {
    "collapsed": true
   },
   "outputs": [],
   "source": [
    "features_train = features_train[:len(features_train)/100]\n",
    "labels_train = labels_train[:len(labels_train)/100]\n",
    "\n",
    "clf_rbf = SVC(kernel='rbf',C=10000)\n",
    "clf_rbf.fit(features_train,labels_train)\n",
    "\n",
    "SVC(C=10000, cache_size=200, class_weight=None, coef0=0.0, degree=3,\n",
    "  gamma=0.0, kernel='rbf', max_iter=-1, probability=False,\n",
    "  random_state=None, shrinking=True, tol=0.001, verbose=False)\n",
    "\n",
    "pred = clf_rbf.predict(features_test)\n",
    "\n",
    "print pred[10]\n",
    "print pred[26]\n",
    "print pred[50]"
   ]
  },
  {
   "cell_type": "code",
   "execution_count": null,
   "metadata": {
    "collapsed": true
   },
   "outputs": [],
   "source": [
    "features_train, features_test, labels_train, labels_test = preprocess()\n",
    "\n",
    "no. of Chris training emails: 7936\n",
    "no. of Sara training emails: 7884\n",
    "\n",
    "clf_rbf = SVC(kernel='rbf',C=10000)\n",
    "clf_rbf.fit(features_train,labels_train)\n",
    "\n",
    "SVC(C=10000, cache_size=200, class_weight=None, coef0=0.0, degree=3,\n",
    "  gamma=0.0, kernel='rbf', max_iter=-1, probability=False,\n",
    "  random_state=None, shrinking=True, tol=0.001, verbose=False)\n",
    "\n",
    "pred = clf_rbf.predict(features_test)\n",
    "\n",
    "len(pred)\n",
    "n = []\n",
    "\n",
    "[n.append(e) for e in pred if e == 1]\n",
    "len(n)"
   ]
  },
  {
   "cell_type": "code",
   "execution_count": null,
   "metadata": {
    "collapsed": true
   },
   "outputs": [],
   "source": []
  }
 ],
 "metadata": {
  "kernelspec": {
   "display_name": "Python 2",
   "language": "python",
   "name": "python2"
  },
  "language_info": {
   "codemirror_mode": {
    "name": "ipython",
    "version": 2
   },
   "file_extension": ".py",
   "mimetype": "text/x-python",
   "name": "python",
   "nbconvert_exporter": "python",
   "pygments_lexer": "ipython2",
   "version": "2.7.10"
  }
 },
 "nbformat": 4,
 "nbformat_minor": 0
}
